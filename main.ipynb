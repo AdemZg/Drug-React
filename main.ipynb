{
  "cells": [
    {
      "cell_type": "code",
      "execution_count": 4,
      "metadata": {
        "id": "woED4s_M0PpD"
      },
      "outputs": [],
      "source": [
        "import numpy as np \n",
        "np.set_printoptions (suppress=True) \n",
        "import pandas as pd \n",
        "import warnings \n",
        "import matplotlib.pyplot as plt \n",
        "warnings.filterwarnings('ignore')"
      ]
    },
    {
      "cell_type": "code",
      "execution_count": 5,
      "metadata": {
        "id": "gLKXYagKB_aX"
      },
      "outputs": [],
      "source": [
        "from sklearn.model_selection import train_test_split\n",
        "from sklearn.neural_network import MLPClassifier"
      ]
    },
    {
      "cell_type": "code",
      "execution_count": 6,
      "metadata": {
        "id": "5jGxbVrwCGYP"
      },
      "outputs": [],
      "source": [
        "from sklearn.tree import DecisionTreeClassifier\n",
        "from sklearn.metrics import confusion_matrix,accuracy_score,precision_score,recall_score,classification_report\n",
        "from sklearn.preprocessing import StandardScaler,MinMaxScaler"
      ]
    },
    {
      "cell_type": "code",
      "execution_count": 7,
      "metadata": {
        "id": "zWm-AMw6CbQO"
      },
      "outputs": [],
      "source": [
        "from sklearn.ensemble import RandomForestClassifier"
      ]
    },
    {
      "cell_type": "code",
      "execution_count": 8,
      "metadata": {
        "id": "czHDfkTtCzmV"
      },
      "outputs": [],
      "source": [
        "rfc = RandomForestClassifier(n_estimators=150,\n",
        "                             criterion='entropy',\n",
        "                             random_state=42,\n",
        "                             min_samples_split=4,\n",
        "                             min_samples_leaf=3,\n",
        "                             max_features=\"log2\",\n",
        "                             oob_score=True,\n",
        "                             class_weight=\"balanced\",\n",
        "                             n_jobs=10,\n",
        "                             )"
      ]
    },
    {
      "cell_type": "code",
      "execution_count": 31,
      "metadata": {
        "colab": {
          "base_uri": "https://localhost:8080/",
          "height": 126
        },
        "id": "RTCUi72LC2V_",
        "outputId": "11f2e1f5-08ae-44c1-aabd-61321d154030"
      },
      "outputs": [
        {
          "data": {
            "text/html": [
              "<style>#sk-container-id-1 {color: black;background-color: white;}#sk-container-id-1 pre{padding: 0;}#sk-container-id-1 div.sk-toggleable {background-color: white;}#sk-container-id-1 label.sk-toggleable__label {cursor: pointer;display: block;width: 100%;margin-bottom: 0;padding: 0.3em;box-sizing: border-box;text-align: center;}#sk-container-id-1 label.sk-toggleable__label-arrow:before {content: \"▸\";float: left;margin-right: 0.25em;color: #696969;}#sk-container-id-1 label.sk-toggleable__label-arrow:hover:before {color: black;}#sk-container-id-1 div.sk-estimator:hover label.sk-toggleable__label-arrow:before {color: black;}#sk-container-id-1 div.sk-toggleable__content {max-height: 0;max-width: 0;overflow: hidden;text-align: left;background-color: #f0f8ff;}#sk-container-id-1 div.sk-toggleable__content pre {margin: 0.2em;color: black;border-radius: 0.25em;background-color: #f0f8ff;}#sk-container-id-1 input.sk-toggleable__control:checked~div.sk-toggleable__content {max-height: 200px;max-width: 100%;overflow: auto;}#sk-container-id-1 input.sk-toggleable__control:checked~label.sk-toggleable__label-arrow:before {content: \"▾\";}#sk-container-id-1 div.sk-estimator input.sk-toggleable__control:checked~label.sk-toggleable__label {background-color: #d4ebff;}#sk-container-id-1 div.sk-label input.sk-toggleable__control:checked~label.sk-toggleable__label {background-color: #d4ebff;}#sk-container-id-1 input.sk-hidden--visually {border: 0;clip: rect(1px 1px 1px 1px);clip: rect(1px, 1px, 1px, 1px);height: 1px;margin: -1px;overflow: hidden;padding: 0;position: absolute;width: 1px;}#sk-container-id-1 div.sk-estimator {font-family: monospace;background-color: #f0f8ff;border: 1px dotted black;border-radius: 0.25em;box-sizing: border-box;margin-bottom: 0.5em;}#sk-container-id-1 div.sk-estimator:hover {background-color: #d4ebff;}#sk-container-id-1 div.sk-parallel-item::after {content: \"\";width: 100%;border-bottom: 1px solid gray;flex-grow: 1;}#sk-container-id-1 div.sk-label:hover label.sk-toggleable__label {background-color: #d4ebff;}#sk-container-id-1 div.sk-serial::before {content: \"\";position: absolute;border-left: 1px solid gray;box-sizing: border-box;top: 0;bottom: 0;left: 50%;z-index: 0;}#sk-container-id-1 div.sk-serial {display: flex;flex-direction: column;align-items: center;background-color: white;padding-right: 0.2em;padding-left: 0.2em;position: relative;}#sk-container-id-1 div.sk-item {position: relative;z-index: 1;}#sk-container-id-1 div.sk-parallel {display: flex;align-items: stretch;justify-content: center;background-color: white;position: relative;}#sk-container-id-1 div.sk-item::before, #sk-container-id-1 div.sk-parallel-item::before {content: \"\";position: absolute;border-left: 1px solid gray;box-sizing: border-box;top: 0;bottom: 0;left: 50%;z-index: -1;}#sk-container-id-1 div.sk-parallel-item {display: flex;flex-direction: column;z-index: 1;position: relative;background-color: white;}#sk-container-id-1 div.sk-parallel-item:first-child::after {align-self: flex-end;width: 50%;}#sk-container-id-1 div.sk-parallel-item:last-child::after {align-self: flex-start;width: 50%;}#sk-container-id-1 div.sk-parallel-item:only-child::after {width: 0;}#sk-container-id-1 div.sk-dashed-wrapped {border: 1px dashed gray;margin: 0 0.4em 0.5em 0.4em;box-sizing: border-box;padding-bottom: 0.4em;background-color: white;}#sk-container-id-1 div.sk-label label {font-family: monospace;font-weight: bold;display: inline-block;line-height: 1.2em;}#sk-container-id-1 div.sk-label-container {text-align: center;}#sk-container-id-1 div.sk-container {/* jupyter's `normalize.less` sets `[hidden] { display: none; }` but bootstrap.min.css set `[hidden] { display: none !important; }` so we also need the `!important` here to be able to override the default hidden behavior on the sphinx rendered scikit-learn.org. See: https://github.com/scikit-learn/scikit-learn/issues/21755 */display: inline-block !important;position: relative;}#sk-container-id-1 div.sk-text-repr-fallback {display: none;}</style><div id=\"sk-container-id-1\" class=\"sk-top-container\"><div class=\"sk-text-repr-fallback\"><pre>RandomForestClassifier(class_weight=&#x27;balanced&#x27;, criterion=&#x27;entropy&#x27;,\n",
              "                       max_features=&#x27;log2&#x27;, min_samples_leaf=3,\n",
              "                       min_samples_split=4, n_estimators=150, n_jobs=10,\n",
              "                       oob_score=True, random_state=42)</pre><b>In a Jupyter environment, please rerun this cell to show the HTML representation or trust the notebook. <br />On GitHub, the HTML representation is unable to render, please try loading this page with nbviewer.org.</b></div><div class=\"sk-container\" hidden><div class=\"sk-item\"><div class=\"sk-estimator sk-toggleable\"><input class=\"sk-toggleable__control sk-hidden--visually\" id=\"sk-estimator-id-1\" type=\"checkbox\" checked><label for=\"sk-estimator-id-1\" class=\"sk-toggleable__label sk-toggleable__label-arrow\">RandomForestClassifier</label><div class=\"sk-toggleable__content\"><pre>RandomForestClassifier(class_weight=&#x27;balanced&#x27;, criterion=&#x27;entropy&#x27;,\n",
              "                       max_features=&#x27;log2&#x27;, min_samples_leaf=3,\n",
              "                       min_samples_split=4, n_estimators=150, n_jobs=10,\n",
              "                       oob_score=True, random_state=42)</pre></div></div></div></div></div>"
            ],
            "text/plain": [
              "RandomForestClassifier(class_weight='balanced', criterion='entropy',\n",
              "                       max_features='log2', min_samples_leaf=3,\n",
              "                       min_samples_split=4, n_estimators=150, n_jobs=10,\n",
              "                       oob_score=True, random_state=42)"
            ]
          },
          "execution_count": 31,
          "metadata": {},
          "output_type": "execute_result"
        }
      ],
      "source": [
        "rfc.fit(Xtrain,Ytrain)"
      ]
    },
    {
      "cell_type": "code",
      "execution_count": 32,
      "metadata": {
        "id": "TlJpztUK9kd-"
      },
      "outputs": [],
      "source": [
        "predicted_output=rfc.predict(Xtest)"
      ]
    },
    {
      "cell_type": "code",
      "execution_count": 33,
      "metadata": {
        "colab": {
          "base_uri": "https://localhost:8080/"
        },
        "id": "QEYW80cr9qba",
        "outputId": "1c88fc8e-d2a0-4ace-8cd9-938ce9f3e56e"
      },
      "outputs": [
        {
          "name": "stdout",
          "output_type": "stream",
          "text": [
            "********** Performance Evaluation of RF **********\n",
            "[[6 1]\n",
            " [1 6]]\n",
            "              precision    recall  f1-score   support\n",
            "\n",
            "          No       0.86      0.86      0.86         7\n",
            "         Yes       0.86      0.86      0.86         7\n",
            "\n",
            "    accuracy                           0.86        14\n",
            "   macro avg       0.86      0.86      0.86        14\n",
            "weighted avg       0.86      0.86      0.86        14\n",
            "\n"
          ]
        }
      ],
      "source": [
        "print(\"********** Performance Evaluation of RF **********\")\n",
        "print(confusion_matrix(Ytest,predicted_output))\n",
        "print(classification_report(Ytest,predicted_output))"
      ]
    },
    {
      "cell_type": "code",
      "execution_count": 34,
      "metadata": {
        "colab": {
          "base_uri": "https://localhost:8080/"
        },
        "id": "QMDhIugQ9sn8",
        "outputId": "ae2d433e-b889-465e-8c13-e1c9f8455b63"
      },
      "outputs": [
        {
          "data": {
            "text/plain": [
              "array(['No', 'Yes', 'Yes', 'No', 'No', 'No', 'No', 'Yes', 'Yes', 'Yes',\n",
              "       'No', 'Yes', 'Yes', 'No'], dtype=object)"
            ]
          },
          "execution_count": 34,
          "metadata": {},
          "output_type": "execute_result"
        }
      ],
      "source": [
        "predicted_output"
      ]
    },
    {
      "cell_type": "code",
      "execution_count": 25,
      "metadata": {
        "colab": {
          "base_uri": "https://localhost:8080/"
        },
        "id": "FlNPBlahFoRq",
        "outputId": "c2b88bdd-a81b-4ad5-eab8-5c02110fe87f"
      },
      "outputs": [
        {
          "name": "stdout",
          "output_type": "stream",
          "text": [
            "     Drug A Name Drug A Chemical Structure Drug B Name  \\\n",
            "0    Amoxicillin               C16H19N3O5S    Warfarin   \n",
            "1  Ciprofloxacin               C17H18FN3O3  Tizanidine   \n",
            "2     Furosemide             C12H11ClN2O5S     Digoxin   \n",
            "3      Ibuprofen                  C13H18O2     Aspirin   \n",
            "4   Methotrexate                C20H22N8O5  Probenecid   \n",
            "5      Metformin                   C4H11N5  Cimetidine   \n",
            "6       Naproxen                16C14H14O3     Lithium   \n",
            "7     Paroxetine                C19H20FNO3   Tamoxifen   \n",
            "8    Simvastatin                  C25H38O5   Verapamil   \n",
            "9  Acetaminophen                   C8H9NO2  Loratadine   \n",
            "\n",
            "  Drug B Chemical Structure Interaction  \\\n",
            "0                  C19H16O4         Yes   \n",
            "1                   C9H8N5S         Yes   \n",
            "2                 C41H64O14         Yes   \n",
            "3                    C9H8O4         Yes   \n",
            "4                C13H19NO4S         Yes   \n",
            "5                 C10H16N6S         Yes   \n",
            "6                     1s2s1         Yes   \n",
            "7                  C26H29NO         Yes   \n",
            "8                C27H38N2O4         Yes   \n",
            "9              C22H23ClN2O2          No   \n",
            "\n",
            "                       Reason for Interaction  \n",
            "0                  Increased risk of bleeding  \n",
            "1  Increased risk of sedation and hypotension  \n",
            "2          Increased risk of digoxin toxicity  \n",
            "3                  Increased risk of bleeding  \n",
            "4     Increased risk of methotrexate toxicity  \n",
            "5           Increased risk of lactic acidosis  \n",
            "6          Increased risk of lithium toxicity  \n",
            "7        Decreased effectiveness of tamoxifen  \n",
            "8             Increased risk of muscle injury  \n",
            "9                        No known interaction  \n"
          ]
        }
      ],
      "source": [
        "ons=pd.read_csv('onssdb.csv', sep=',', header=0)\n",
        "print(ons.head(10))"
      ]
    },
    {
      "cell_type": "code",
      "execution_count": null,
      "metadata": {
        "colab": {
          "base_uri": "https://localhost:8080/"
        },
        "id": "rms67FcEqQxf",
        "outputId": "b52c8229-5e84-46ec-ae73-26b9eefabd3a"
      },
      "outputs": [
        {
          "data": {
            "text/plain": [
              "(54, 6)"
            ]
          },
          "execution_count": 45,
          "metadata": {},
          "output_type": "execute_result"
        }
      ],
      "source": [
        "ons.shape"
      ]
    },
    {
      "cell_type": "code",
      "execution_count": 29,
      "metadata": {
        "id": "5la5MXIdcGd3"
      },
      "outputs": [],
      "source": [
        "X=ons.iloc[:,0:4].values\n",
        "Y=ons.iloc[:,4:5].values"
      ]
    },
    {
      "cell_type": "code",
      "execution_count": 30,
      "metadata": {
        "id": "feHS6fPdqfiY"
      },
      "outputs": [],
      "source": [
        "Xtrain,Xtest,Ytrain,Ytest=train_test_split(X,Y,test_size=0.25,random_state=1)"
      ]
    },
    {
      "cell_type": "code",
      "execution_count": null,
      "metadata": {
        "id": "bBZ6wXOAqtGX"
      },
      "outputs": [],
      "source": [
        "DT=DecisionTreeClassifier(random_state=0, criterion=\"entropy\")"
      ]
    },
    {
      "cell_type": "code",
      "execution_count": null,
      "metadata": {
        "colab": {
          "base_uri": "https://localhost:8080/",
          "height": 74
        },
        "id": "T-d6uzVMrSQf",
        "outputId": "7b89f082-5def-4a35-ff1a-3e3e58af062b"
      },
      "outputs": [
        {
          "data": {
            "text/html": [
              "<style>#sk-container-id-1 {color: black;background-color: white;}#sk-container-id-1 pre{padding: 0;}#sk-container-id-1 div.sk-toggleable {background-color: white;}#sk-container-id-1 label.sk-toggleable__label {cursor: pointer;display: block;width: 100%;margin-bottom: 0;padding: 0.3em;box-sizing: border-box;text-align: center;}#sk-container-id-1 label.sk-toggleable__label-arrow:before {content: \"▸\";float: left;margin-right: 0.25em;color: #696969;}#sk-container-id-1 label.sk-toggleable__label-arrow:hover:before {color: black;}#sk-container-id-1 div.sk-estimator:hover label.sk-toggleable__label-arrow:before {color: black;}#sk-container-id-1 div.sk-toggleable__content {max-height: 0;max-width: 0;overflow: hidden;text-align: left;background-color: #f0f8ff;}#sk-container-id-1 div.sk-toggleable__content pre {margin: 0.2em;color: black;border-radius: 0.25em;background-color: #f0f8ff;}#sk-container-id-1 input.sk-toggleable__control:checked~div.sk-toggleable__content {max-height: 200px;max-width: 100%;overflow: auto;}#sk-container-id-1 input.sk-toggleable__control:checked~label.sk-toggleable__label-arrow:before {content: \"▾\";}#sk-container-id-1 div.sk-estimator input.sk-toggleable__control:checked~label.sk-toggleable__label {background-color: #d4ebff;}#sk-container-id-1 div.sk-label input.sk-toggleable__control:checked~label.sk-toggleable__label {background-color: #d4ebff;}#sk-container-id-1 input.sk-hidden--visually {border: 0;clip: rect(1px 1px 1px 1px);clip: rect(1px, 1px, 1px, 1px);height: 1px;margin: -1px;overflow: hidden;padding: 0;position: absolute;width: 1px;}#sk-container-id-1 div.sk-estimator {font-family: monospace;background-color: #f0f8ff;border: 1px dotted black;border-radius: 0.25em;box-sizing: border-box;margin-bottom: 0.5em;}#sk-container-id-1 div.sk-estimator:hover {background-color: #d4ebff;}#sk-container-id-1 div.sk-parallel-item::after {content: \"\";width: 100%;border-bottom: 1px solid gray;flex-grow: 1;}#sk-container-id-1 div.sk-label:hover label.sk-toggleable__label {background-color: #d4ebff;}#sk-container-id-1 div.sk-serial::before {content: \"\";position: absolute;border-left: 1px solid gray;box-sizing: border-box;top: 0;bottom: 0;left: 50%;z-index: 0;}#sk-container-id-1 div.sk-serial {display: flex;flex-direction: column;align-items: center;background-color: white;padding-right: 0.2em;padding-left: 0.2em;position: relative;}#sk-container-id-1 div.sk-item {position: relative;z-index: 1;}#sk-container-id-1 div.sk-parallel {display: flex;align-items: stretch;justify-content: center;background-color: white;position: relative;}#sk-container-id-1 div.sk-item::before, #sk-container-id-1 div.sk-parallel-item::before {content: \"\";position: absolute;border-left: 1px solid gray;box-sizing: border-box;top: 0;bottom: 0;left: 50%;z-index: -1;}#sk-container-id-1 div.sk-parallel-item {display: flex;flex-direction: column;z-index: 1;position: relative;background-color: white;}#sk-container-id-1 div.sk-parallel-item:first-child::after {align-self: flex-end;width: 50%;}#sk-container-id-1 div.sk-parallel-item:last-child::after {align-self: flex-start;width: 50%;}#sk-container-id-1 div.sk-parallel-item:only-child::after {width: 0;}#sk-container-id-1 div.sk-dashed-wrapped {border: 1px dashed gray;margin: 0 0.4em 0.5em 0.4em;box-sizing: border-box;padding-bottom: 0.4em;background-color: white;}#sk-container-id-1 div.sk-label label {font-family: monospace;font-weight: bold;display: inline-block;line-height: 1.2em;}#sk-container-id-1 div.sk-label-container {text-align: center;}#sk-container-id-1 div.sk-container {/* jupyter's `normalize.less` sets `[hidden] { display: none; }` but bootstrap.min.css set `[hidden] { display: none !important; }` so we also need the `!important` here to be able to override the default hidden behavior on the sphinx rendered scikit-learn.org. See: https://github.com/scikit-learn/scikit-learn/issues/21755 */display: inline-block !important;position: relative;}#sk-container-id-1 div.sk-text-repr-fallback {display: none;}</style><div id=\"sk-container-id-1\" class=\"sk-top-container\"><div class=\"sk-text-repr-fallback\"><pre>DecisionTreeClassifier(criterion=&#x27;entropy&#x27;, random_state=0)</pre><b>In a Jupyter environment, please rerun this cell to show the HTML representation or trust the notebook. <br />On GitHub, the HTML representation is unable to render, please try loading this page with nbviewer.org.</b></div><div class=\"sk-container\" hidden><div class=\"sk-item\"><div class=\"sk-estimator sk-toggleable\"><input class=\"sk-toggleable__control sk-hidden--visually\" id=\"sk-estimator-id-1\" type=\"checkbox\" checked><label for=\"sk-estimator-id-1\" class=\"sk-toggleable__label sk-toggleable__label-arrow\">DecisionTreeClassifier</label><div class=\"sk-toggleable__content\"><pre>DecisionTreeClassifier(criterion=&#x27;entropy&#x27;, random_state=0)</pre></div></div></div></div></div>"
            ],
            "text/plain": [
              "DecisionTreeClassifier(criterion='entropy', random_state=0)"
            ]
          },
          "execution_count": 93,
          "metadata": {},
          "output_type": "execute_result"
        }
      ],
      "source": [
        "DT.fit(Xtrain,Ytrain)"
      ]
    },
    {
      "cell_type": "code",
      "execution_count": null,
      "metadata": {
        "id": "u8-SDeGdrT6e"
      },
      "outputs": [],
      "source": [
        "YDT=DT.predict(Xtest)"
      ]
    },
    {
      "cell_type": "code",
      "execution_count": null,
      "metadata": {
        "colab": {
          "base_uri": "https://localhost:8080/"
        },
        "id": "j5GdpaimrkHh",
        "outputId": "56977dd0-e7f7-48c9-f344-e74b9a50a498"
      },
      "outputs": [
        {
          "name": "stdout",
          "output_type": "stream",
          "text": [
            "********** Performance Evaluation of Decision Tree **********\n",
            "[[5 2]\n",
            " [1 6]]\n",
            "              precision    recall  f1-score   support\n",
            "\n",
            "          No       0.83      0.71      0.77         7\n",
            "         Yes       0.75      0.86      0.80         7\n",
            "\n",
            "    accuracy                           0.79        14\n",
            "   macro avg       0.79      0.79      0.78        14\n",
            "weighted avg       0.79      0.79      0.78        14\n",
            "\n"
          ]
        }
      ],
      "source": [
        "print(\"********** Performance Evaluation of Decision Tree **********\")\n",
        "print(confusion_matrix(Ytest,YDT))\n",
        "print(classification_report(Ytest,YDT))"
      ]
    },
    {
      "cell_type": "code",
      "execution_count": null,
      "metadata": {
        "id": "D6bvLPd1stAB"
      },
      "outputs": [],
      "source": [
        "from sklearn.svm import SVC"
      ]
    },
    {
      "cell_type": "code",
      "execution_count": null,
      "metadata": {
        "id": "oniJmF0ks6_Y"
      },
      "outputs": [],
      "source": [
        "linear_svm = SVC(kernel='linear')\n",
        "rbf_svm=SVC(kernel='rbf')\n",
        "sigmoid_svm=SVC(kernel='sigmoid')\n",
        "poly_svm=SVC(kernel='poly',degree=2)"
      ]
    },
    {
      "cell_type": "code",
      "execution_count": null,
      "metadata": {
        "colab": {
          "base_uri": "https://localhost:8080/",
          "height": 74
        },
        "id": "m2tk2_sbs84o",
        "outputId": "cb597020-502c-446e-f1f2-6b3d188cfbf2"
      },
      "outputs": [
        {
          "data": {
            "text/html": [
              "<style>#sk-container-id-2 {color: black;background-color: white;}#sk-container-id-2 pre{padding: 0;}#sk-container-id-2 div.sk-toggleable {background-color: white;}#sk-container-id-2 label.sk-toggleable__label {cursor: pointer;display: block;width: 100%;margin-bottom: 0;padding: 0.3em;box-sizing: border-box;text-align: center;}#sk-container-id-2 label.sk-toggleable__label-arrow:before {content: \"▸\";float: left;margin-right: 0.25em;color: #696969;}#sk-container-id-2 label.sk-toggleable__label-arrow:hover:before {color: black;}#sk-container-id-2 div.sk-estimator:hover label.sk-toggleable__label-arrow:before {color: black;}#sk-container-id-2 div.sk-toggleable__content {max-height: 0;max-width: 0;overflow: hidden;text-align: left;background-color: #f0f8ff;}#sk-container-id-2 div.sk-toggleable__content pre {margin: 0.2em;color: black;border-radius: 0.25em;background-color: #f0f8ff;}#sk-container-id-2 input.sk-toggleable__control:checked~div.sk-toggleable__content {max-height: 200px;max-width: 100%;overflow: auto;}#sk-container-id-2 input.sk-toggleable__control:checked~label.sk-toggleable__label-arrow:before {content: \"▾\";}#sk-container-id-2 div.sk-estimator input.sk-toggleable__control:checked~label.sk-toggleable__label {background-color: #d4ebff;}#sk-container-id-2 div.sk-label input.sk-toggleable__control:checked~label.sk-toggleable__label {background-color: #d4ebff;}#sk-container-id-2 input.sk-hidden--visually {border: 0;clip: rect(1px 1px 1px 1px);clip: rect(1px, 1px, 1px, 1px);height: 1px;margin: -1px;overflow: hidden;padding: 0;position: absolute;width: 1px;}#sk-container-id-2 div.sk-estimator {font-family: monospace;background-color: #f0f8ff;border: 1px dotted black;border-radius: 0.25em;box-sizing: border-box;margin-bottom: 0.5em;}#sk-container-id-2 div.sk-estimator:hover {background-color: #d4ebff;}#sk-container-id-2 div.sk-parallel-item::after {content: \"\";width: 100%;border-bottom: 1px solid gray;flex-grow: 1;}#sk-container-id-2 div.sk-label:hover label.sk-toggleable__label {background-color: #d4ebff;}#sk-container-id-2 div.sk-serial::before {content: \"\";position: absolute;border-left: 1px solid gray;box-sizing: border-box;top: 0;bottom: 0;left: 50%;z-index: 0;}#sk-container-id-2 div.sk-serial {display: flex;flex-direction: column;align-items: center;background-color: white;padding-right: 0.2em;padding-left: 0.2em;position: relative;}#sk-container-id-2 div.sk-item {position: relative;z-index: 1;}#sk-container-id-2 div.sk-parallel {display: flex;align-items: stretch;justify-content: center;background-color: white;position: relative;}#sk-container-id-2 div.sk-item::before, #sk-container-id-2 div.sk-parallel-item::before {content: \"\";position: absolute;border-left: 1px solid gray;box-sizing: border-box;top: 0;bottom: 0;left: 50%;z-index: -1;}#sk-container-id-2 div.sk-parallel-item {display: flex;flex-direction: column;z-index: 1;position: relative;background-color: white;}#sk-container-id-2 div.sk-parallel-item:first-child::after {align-self: flex-end;width: 50%;}#sk-container-id-2 div.sk-parallel-item:last-child::after {align-self: flex-start;width: 50%;}#sk-container-id-2 div.sk-parallel-item:only-child::after {width: 0;}#sk-container-id-2 div.sk-dashed-wrapped {border: 1px dashed gray;margin: 0 0.4em 0.5em 0.4em;box-sizing: border-box;padding-bottom: 0.4em;background-color: white;}#sk-container-id-2 div.sk-label label {font-family: monospace;font-weight: bold;display: inline-block;line-height: 1.2em;}#sk-container-id-2 div.sk-label-container {text-align: center;}#sk-container-id-2 div.sk-container {/* jupyter's `normalize.less` sets `[hidden] { display: none; }` but bootstrap.min.css set `[hidden] { display: none !important; }` so we also need the `!important` here to be able to override the default hidden behavior on the sphinx rendered scikit-learn.org. See: https://github.com/scikit-learn/scikit-learn/issues/21755 */display: inline-block !important;position: relative;}#sk-container-id-2 div.sk-text-repr-fallback {display: none;}</style><div id=\"sk-container-id-2\" class=\"sk-top-container\"><div class=\"sk-text-repr-fallback\"><pre>SVC(degree=2, kernel=&#x27;poly&#x27;)</pre><b>In a Jupyter environment, please rerun this cell to show the HTML representation or trust the notebook. <br />On GitHub, the HTML representation is unable to render, please try loading this page with nbviewer.org.</b></div><div class=\"sk-container\" hidden><div class=\"sk-item\"><div class=\"sk-estimator sk-toggleable\"><input class=\"sk-toggleable__control sk-hidden--visually\" id=\"sk-estimator-id-2\" type=\"checkbox\" checked><label for=\"sk-estimator-id-2\" class=\"sk-toggleable__label sk-toggleable__label-arrow\">SVC</label><div class=\"sk-toggleable__content\"><pre>SVC(degree=2, kernel=&#x27;poly&#x27;)</pre></div></div></div></div></div>"
            ],
            "text/plain": [
              "SVC(degree=2, kernel='poly')"
            ]
          },
          "execution_count": 98,
          "metadata": {},
          "output_type": "execute_result"
        }
      ],
      "source": [
        "linear_svm.fit(Xtrain,Ytrain)\n",
        "rbf_svm.fit(Xtrain,Ytrain)\n",
        "sigmoid_svm.fit(Xtrain,Ytrain)\n",
        "poly_svm.fit(Xtrain,Ytrain)"
      ]
    },
    {
      "cell_type": "code",
      "execution_count": null,
      "metadata": {
        "id": "efs2EinP2ywt"
      },
      "outputs": [],
      "source": [
        "y_linear_svm=linear_svm.predict(Xtest)\n",
        "y_rbf_svm=rbf_svm.predict(Xtest)\n",
        "y_poly_svm=poly_svm.predict(Xtest)\n",
        "y_sigmoid_svm=sigmoid_svm.predict(Xtest)"
      ]
    },
    {
      "cell_type": "code",
      "execution_count": null,
      "metadata": {
        "colab": {
          "base_uri": "https://localhost:8080/"
        },
        "id": "V_F9oRg32Nh9",
        "outputId": "3380e093-a652-4315-b573-9605b6de7d77"
      },
      "outputs": [
        {
          "name": "stdout",
          "output_type": "stream",
          "text": [
            "******* Performance Evaluation of Linear SVM *******\n",
            "[[7 0]\n",
            " [4 3]]\n",
            "              precision    recall  f1-score   support\n",
            "\n",
            "          No       0.64      1.00      0.78         7\n",
            "         Yes       1.00      0.43      0.60         7\n",
            "\n",
            "    accuracy                           0.71        14\n",
            "   macro avg       0.82      0.71      0.69        14\n",
            "weighted avg       0.82      0.71      0.69        14\n",
            "\n",
            "******* Performance Evaluation of RBF SVM ********\n",
            "[[7 0]\n",
            " [1 6]]\n",
            "              precision    recall  f1-score   support\n",
            "\n",
            "          No       0.88      1.00      0.93         7\n",
            "         Yes       1.00      0.86      0.92         7\n",
            "\n",
            "    accuracy                           0.93        14\n",
            "   macro avg       0.94      0.93      0.93        14\n",
            "weighted avg       0.94      0.93      0.93        14\n",
            "\n",
            "******* Performance Evaluation of Sigmoid SVM ********\n",
            "[[7 0]\n",
            " [7 0]]\n",
            "              precision    recall  f1-score   support\n",
            "\n",
            "          No       0.50      1.00      0.67         7\n",
            "         Yes       0.00      0.00      0.00         7\n",
            "\n",
            "    accuracy                           0.50        14\n",
            "   macro avg       0.25      0.50      0.33        14\n",
            "weighted avg       0.25      0.50      0.33        14\n",
            "\n",
            "******* Performance Evaluation of Polynomial (2) SVM ********\n",
            "[[7 0]\n",
            " [1 6]]\n",
            "              precision    recall  f1-score   support\n",
            "\n",
            "          No       0.88      1.00      0.93         7\n",
            "         Yes       1.00      0.86      0.92         7\n",
            "\n",
            "    accuracy                           0.93        14\n",
            "   macro avg       0.94      0.93      0.93        14\n",
            "weighted avg       0.94      0.93      0.93        14\n",
            "\n"
          ]
        }
      ],
      "source": [
        "print('******* Performance Evaluation of Linear SVM *******')\n",
        "print(confusion_matrix(Ytest,y_linear_svm))\n",
        "print(classification_report(Ytest,y_linear_svm))\n",
        "print('******* Performance Evaluation of RBF SVM ********')\n",
        "print(confusion_matrix(Ytest,y_rbf_svm))\n",
        "print(classification_report(Ytest,y_rbf_svm))\n",
        "print('******* Performance Evaluation of Sigmoid SVM ********')\n",
        "print(confusion_matrix(Ytest,y_sigmoid_svm))\n",
        "print(classification_report(Ytest,y_sigmoid_svm))\n",
        "print('******* Performance Evaluation of Polynomial (2) SVM ********')\n",
        "print(confusion_matrix(Ytest,y_poly_svm))\n",
        "print(classification_report(Ytest,y_poly_svm))"
      ]
    },
    {
      "cell_type": "code",
      "execution_count": null,
      "metadata": {
        "id": "Fw6fNuUgs-8I"
      },
      "outputs": [],
      "source": [
        "\n",
        "from sklearn.naive_bayes import GaussianNB"
      ]
    },
    {
      "cell_type": "code",
      "execution_count": null,
      "metadata": {
        "id": "l_IpujqaufJc"
      },
      "outputs": [],
      "source": [
        "gnb=GaussianNB()"
      ]
    },
    {
      "cell_type": "code",
      "execution_count": null,
      "metadata": {
        "colab": {
          "base_uri": "https://localhost:8080/",
          "height": 74
        },
        "id": "dX3gB-QrugyI",
        "outputId": "1635f683-20fc-4650-97fa-3c0f711da7d6"
      },
      "outputs": [
        {
          "data": {
            "text/html": [
              "<style>#sk-container-id-3 {color: black;background-color: white;}#sk-container-id-3 pre{padding: 0;}#sk-container-id-3 div.sk-toggleable {background-color: white;}#sk-container-id-3 label.sk-toggleable__label {cursor: pointer;display: block;width: 100%;margin-bottom: 0;padding: 0.3em;box-sizing: border-box;text-align: center;}#sk-container-id-3 label.sk-toggleable__label-arrow:before {content: \"▸\";float: left;margin-right: 0.25em;color: #696969;}#sk-container-id-3 label.sk-toggleable__label-arrow:hover:before {color: black;}#sk-container-id-3 div.sk-estimator:hover label.sk-toggleable__label-arrow:before {color: black;}#sk-container-id-3 div.sk-toggleable__content {max-height: 0;max-width: 0;overflow: hidden;text-align: left;background-color: #f0f8ff;}#sk-container-id-3 div.sk-toggleable__content pre {margin: 0.2em;color: black;border-radius: 0.25em;background-color: #f0f8ff;}#sk-container-id-3 input.sk-toggleable__control:checked~div.sk-toggleable__content {max-height: 200px;max-width: 100%;overflow: auto;}#sk-container-id-3 input.sk-toggleable__control:checked~label.sk-toggleable__label-arrow:before {content: \"▾\";}#sk-container-id-3 div.sk-estimator input.sk-toggleable__control:checked~label.sk-toggleable__label {background-color: #d4ebff;}#sk-container-id-3 div.sk-label input.sk-toggleable__control:checked~label.sk-toggleable__label {background-color: #d4ebff;}#sk-container-id-3 input.sk-hidden--visually {border: 0;clip: rect(1px 1px 1px 1px);clip: rect(1px, 1px, 1px, 1px);height: 1px;margin: -1px;overflow: hidden;padding: 0;position: absolute;width: 1px;}#sk-container-id-3 div.sk-estimator {font-family: monospace;background-color: #f0f8ff;border: 1px dotted black;border-radius: 0.25em;box-sizing: border-box;margin-bottom: 0.5em;}#sk-container-id-3 div.sk-estimator:hover {background-color: #d4ebff;}#sk-container-id-3 div.sk-parallel-item::after {content: \"\";width: 100%;border-bottom: 1px solid gray;flex-grow: 1;}#sk-container-id-3 div.sk-label:hover label.sk-toggleable__label {background-color: #d4ebff;}#sk-container-id-3 div.sk-serial::before {content: \"\";position: absolute;border-left: 1px solid gray;box-sizing: border-box;top: 0;bottom: 0;left: 50%;z-index: 0;}#sk-container-id-3 div.sk-serial {display: flex;flex-direction: column;align-items: center;background-color: white;padding-right: 0.2em;padding-left: 0.2em;position: relative;}#sk-container-id-3 div.sk-item {position: relative;z-index: 1;}#sk-container-id-3 div.sk-parallel {display: flex;align-items: stretch;justify-content: center;background-color: white;position: relative;}#sk-container-id-3 div.sk-item::before, #sk-container-id-3 div.sk-parallel-item::before {content: \"\";position: absolute;border-left: 1px solid gray;box-sizing: border-box;top: 0;bottom: 0;left: 50%;z-index: -1;}#sk-container-id-3 div.sk-parallel-item {display: flex;flex-direction: column;z-index: 1;position: relative;background-color: white;}#sk-container-id-3 div.sk-parallel-item:first-child::after {align-self: flex-end;width: 50%;}#sk-container-id-3 div.sk-parallel-item:last-child::after {align-self: flex-start;width: 50%;}#sk-container-id-3 div.sk-parallel-item:only-child::after {width: 0;}#sk-container-id-3 div.sk-dashed-wrapped {border: 1px dashed gray;margin: 0 0.4em 0.5em 0.4em;box-sizing: border-box;padding-bottom: 0.4em;background-color: white;}#sk-container-id-3 div.sk-label label {font-family: monospace;font-weight: bold;display: inline-block;line-height: 1.2em;}#sk-container-id-3 div.sk-label-container {text-align: center;}#sk-container-id-3 div.sk-container {/* jupyter's `normalize.less` sets `[hidden] { display: none; }` but bootstrap.min.css set `[hidden] { display: none !important; }` so we also need the `!important` here to be able to override the default hidden behavior on the sphinx rendered scikit-learn.org. See: https://github.com/scikit-learn/scikit-learn/issues/21755 */display: inline-block !important;position: relative;}#sk-container-id-3 div.sk-text-repr-fallback {display: none;}</style><div id=\"sk-container-id-3\" class=\"sk-top-container\"><div class=\"sk-text-repr-fallback\"><pre>GaussianNB()</pre><b>In a Jupyter environment, please rerun this cell to show the HTML representation or trust the notebook. <br />On GitHub, the HTML representation is unable to render, please try loading this page with nbviewer.org.</b></div><div class=\"sk-container\" hidden><div class=\"sk-item\"><div class=\"sk-estimator sk-toggleable\"><input class=\"sk-toggleable__control sk-hidden--visually\" id=\"sk-estimator-id-3\" type=\"checkbox\" checked><label for=\"sk-estimator-id-3\" class=\"sk-toggleable__label sk-toggleable__label-arrow\">GaussianNB</label><div class=\"sk-toggleable__content\"><pre>GaussianNB()</pre></div></div></div></div></div>"
            ],
            "text/plain": [
              "GaussianNB()"
            ]
          },
          "execution_count": 101,
          "metadata": {},
          "output_type": "execute_result"
        }
      ],
      "source": [
        "gnb.fit(Xtrain,Ytrain)"
      ]
    },
    {
      "cell_type": "code",
      "execution_count": null,
      "metadata": {
        "id": "IU5pDhOG3K9o"
      },
      "outputs": [],
      "source": [
        "y_nb=gnb.predict(Xtest)"
      ]
    },
    {
      "cell_type": "code",
      "execution_count": null,
      "metadata": {
        "colab": {
          "base_uri": "https://localhost:8080/"
        },
        "id": "hsD2bt-e3Nmf",
        "outputId": "e1c38c5b-ebac-4bbc-c67e-6fd77cabc326"
      },
      "outputs": [
        {
          "name": "stdout",
          "output_type": "stream",
          "text": [
            "******* Performance Evaluation of Naive Bayes ********\n",
            "[[7 0]\n",
            " [4 3]]\n",
            "              precision    recall  f1-score   support\n",
            "\n",
            "          No       0.64      1.00      0.78         7\n",
            "         Yes       1.00      0.43      0.60         7\n",
            "\n",
            "    accuracy                           0.71        14\n",
            "   macro avg       0.82      0.71      0.69        14\n",
            "weighted avg       0.82      0.71      0.69        14\n",
            "\n"
          ]
        }
      ],
      "source": [
        "print('******* Performance Evaluation of Naive Bayes ********')\n",
        "print(confusion_matrix(Ytest,y_nb))\n",
        "print(classification_report(Ytest,y_nb))"
      ]
    },
    {
      "cell_type": "code",
      "execution_count": null,
      "metadata": {
        "id": "_iZkmOcwuig2"
      },
      "outputs": [],
      "source": [
        "ss=StandardScaler()\n",
        "ss.fit(Xtrain)\n",
        "Xtrain_norm=ss.transform(Xtrain)\n",
        "Xtest_norm=ss.transform(Xtest)"
      ]
    },
    {
      "cell_type": "code",
      "execution_count": 26,
      "metadata": {
        "id": "stBhkz2AzDTm"
      },
      "outputs": [],
      "source": [
        "from sklearn.preprocessing import LabelEncoder\n",
        "cat_features = [\"Drug A Name\", \"Drug A Chemical Structure\", \"Drug B Name\", \"Drug B Chemical Structure\"]\n",
        "for feature in cat_features:\n",
        "    le = LabelEncoder()\n",
        "    ons[feature] = le.fit_transform(ons[feature])"
      ]
    },
    {
      "cell_type": "code",
      "execution_count": 27,
      "metadata": {
        "id": "KOQk7d5uL4B7"
      },
      "outputs": [],
      "source": [
        "DA=ons[\"Drug A Name\"]\n",
        "MA=ons[\"Drug A Chemical Structure\"]\n",
        "DB=ons[\"Drug B Name\"]\n",
        "MB=ons[\"Drug B Chemical Structure\"]"
      ]
    },
    {
      "cell_type": "code",
      "execution_count": 28,
      "metadata": {
        "id": "lVz8VF3YMl4N"
      },
      "outputs": [],
      "source": [
        "onss=pd.read_csv('onssdb.csv', sep=',', header=0)"
      ]
    },
    {
      "cell_type": "code",
      "execution_count": 18,
      "metadata": {
        "id": "_xa-HGM-L81C"
      },
      "outputs": [],
      "source": [
        "def conn(a,b,c):\n",
        "  j=0\n",
        "  for i in onss[a]:\n",
        "    if i == b:\n",
        "      o=c[j]\n",
        "      break\n",
        "    j+=1\n",
        "  return o"
      ]
    },
    {
      "cell_type": "code",
      "execution_count": 19,
      "metadata": {
        "id": "FOlIL06iUusI"
      },
      "outputs": [],
      "source": [
        "def MMM(a,b,c):\n",
        "  j=0\n",
        "  for i in onss[a]:\n",
        "    if i == b:\n",
        "      o=onss[c][j]\n",
        "      break\n",
        "    j+=1\n",
        "  return o"
      ]
    },
    {
      "cell_type": "code",
      "execution_count": 35,
      "metadata": {
        "colab": {
          "base_uri": "https://localhost:8080/"
        },
        "id": "nxhDpZ1SzoXA",
        "outputId": "41ff7281-a7b1-4246-e627-541a47d3e932"
      },
      "outputs": [
        {
          "name": "stdout",
          "output_type": "stream",
          "text": [
            "Enter medication 1 : Amoxicillin\n",
            "Enter medication 2 : Warfarin\n",
            "the result for your test :\n",
            " Yes\n"
          ]
        }
      ],
      "source": [
        "import sklearn.preprocessing\n",
        "m1 = input(\"Enter medication 1 : \")\n",
        "mol1 = MMM(\"Drug A Name\",m1,\"Drug A Chemical Structure\")\n",
        "m2 = input(\"Enter medication 2 : \")\n",
        "mol2 = MMM(\"Drug B Name\",m2,\"Drug B Chemical Structure\")\n",
        "\n",
        "\n",
        "# Define and fit transformers for non-numerical columns\n",
        "converter_m1 = sklearn.preprocessing.LabelEncoder()\n",
        "converter_m1.fit(ons[\"Drug A Name\"])\n",
        "\n",
        "converter_mol1 = sklearn.preprocessing.LabelEncoder()\n",
        "converter_mol1.fit(ons[\"Drug A Chemical Structure\"])\n",
        "\n",
        "converter_m2 = sklearn.preprocessing.LabelEncoder()\n",
        "converter_m2.fit(ons[\"Drug B Name\"])\n",
        "\n",
        "converter_mol2 = sklearn.preprocessing.LabelEncoder()\n",
        "converter_mol2.fit(ons[\"Drug B Chemical Structure\"])\n",
        "\n",
        "# Encode user input\n",
        "m1 = converter_m1.transform([conn(\"Drug A Name\",m1,DA)])[0]\n",
        "mol1 = converter_mol1.transform([conn(\"Drug A Chemical Structure\",mol1,MA)])[0]\n",
        "m2 = converter_m2.transform([conn(\"Drug B Name\",m2,DB)])[0]\n",
        "mol2 = converter_mol2.transform([conn(\"Drug B Chemical Structure\",mol2,DB)])[0]\n",
        "# Create input dictionary for the model\n",
        "input_dict = {\"Drug A Name\": m1, \"Drug A Chemical Structure\": mol1, \"Drug B Name\": m2, \"Drug B Chemical Structure\": mol2}\n",
        "input_df = pd.DataFrame(input_dict, index=[0])\n",
        "\n",
        "# Predict the prohibited drug\n",
        "result = rfc.predict(input_df)[0]\n",
        "\n",
        "# Print drug recommendation\n",
        "print(\"the result for your test :\\n\", result)"
      ]
    },
    {
      "cell_type": "code",
      "execution_count": 40,
      "metadata": {
        "colab": {
          "base_uri": "https://localhost:8080/"
        },
        "id": "0oQwppbGiaPo",
        "outputId": "77e2a1c9-4378-4303-bb97-c0e85f07366f"
      },
      "outputs": [
        {
          "data": {
            "text/plain": [
              "{'Drug A Name': 2,\n",
              " 'Drug A Chemical Structure': 8,\n",
              " 'Drug B Name': 29,\n",
              " 'Drug B Chemical Structure': 29}"
            ]
          },
          "execution_count": 40,
          "metadata": {},
          "output_type": "execute_result"
        }
      ],
      "source": [
        "input_dict"
      ]
    },
    {
      "cell_type": "code",
      "execution_count": null,
      "metadata": {
        "colab": {
          "base_uri": "https://localhost:8080/"
        },
        "id": "lTzkqWdCF8b4",
        "outputId": "60232447-3935-48fa-bfae-78d7dd6260fd"
      },
      "outputs": [
        {
          "data": {
            "text/plain": [
              "2"
            ]
          },
          "execution_count": 154,
          "metadata": {},
          "output_type": "execute_result"
        }
      ],
      "source": [
        "m1"
      ]
    },
    {
      "cell_type": "code",
      "execution_count": 39,
      "metadata": {
        "colab": {
          "base_uri": "https://localhost:8080/"
        },
        "id": "W7tW-8axiK8-",
        "outputId": "fd4b4349-afe7-4149-a441-08d3051dbf5e"
      },
      "outputs": [
        {
          "data": {
            "text/plain": [
              "array([[ 2,  8, 29, 11],\n",
              "       [ 6, 10, 24, 28],\n",
              "       [11,  1,  4, 24],\n",
              "       [14,  3,  1, 29],\n",
              "       [17, 16, 18,  5],\n",
              "       [16, 23,  2,  2],\n",
              "       [18,  0, 10,  0],\n",
              "       [19, 13, 22, 20],\n",
              "       [21, 20, 28, 21],\n",
              "       [ 0, 25, 11, 15],\n",
              "       [ 5, 22, 13,  6],\n",
              "       [ 7, 15, 15,  8],\n",
              "       [ 8,  7,  5,  9],\n",
              "       [10, 18, 14, 22],\n",
              "       [12, 26, 17, 26],\n",
              "       [13, 24, 20, 17],\n",
              "       [15,  6, 16, 12],\n",
              "       [20,  9, 25,  3],\n",
              "       [22, 17, 21, 14],\n",
              "       [ 2,  8, 29, 11],\n",
              "       [ 6, 10, 24, 28],\n",
              "       [11,  1,  4, 24],\n",
              "       [14,  3,  1, 29],\n",
              "       [17, 16, 18,  5],\n",
              "       [16, 23,  2,  2],\n",
              "       [18,  4, 10,  0],\n",
              "       [19, 13, 22, 20],\n",
              "       [21, 20, 28, 21],\n",
              "       [ 0, 25, 11, 15],\n",
              "       [ 5, 22, 13,  6],\n",
              "       [ 7, 15, 15,  8],\n",
              "       [ 8,  7,  5,  9],\n",
              "       [10, 19, 14, 22],\n",
              "       [12, 26, 17, 26],\n",
              "       [13, 24, 20, 17],\n",
              "       [15,  6, 16, 12],\n",
              "       [20,  9, 25,  3],\n",
              "       [22, 17, 21, 14],\n",
              "       [24, 12,  1, 29],\n",
              "       [21, 20,  3, 23],\n",
              "       [ 6, 10, 23, 25],\n",
              "       [16, 23, 12, 16],\n",
              "       [14,  3,  0, 27],\n",
              "       [11,  1,  4, 24],\n",
              "       [ 2,  8, 29, 11],\n",
              "       [23, 14, 27, 10],\n",
              "       [16, 23,  6, 18],\n",
              "       [ 3, 27,  7,  4],\n",
              "       [ 4,  5,  9, 13],\n",
              "       [ 9, 11, 19,  1],\n",
              "       [16, 23,  8, 19],\n",
              "       [ 1, 21, 12, 16],\n",
              "       [ 7, 15, 26,  7],\n",
              "       [11,  2, 20, 17]])"
            ]
          },
          "execution_count": 39,
          "metadata": {},
          "output_type": "execute_result"
        }
      ],
      "source": [
        "X"
      ]
    },
    {
      "cell_type": "code",
      "execution_count": 36,
      "metadata": {
        "colab": {
          "base_uri": "https://localhost:8080/"
        },
        "id": "U4po_b6sYUf4",
        "outputId": "2f2c605b-7e38-41d4-da53-8644453bf588"
      },
      "outputs": [
        {
          "name": "stdout",
          "output_type": "stream",
          "text": [
            "Looking in indexes: https://pypi.org/simple, https://us-python.pkg.dev/colab-wheels/public/simple/\n",
            "Requirement already satisfied: joblib in /usr/local/lib/python3.10/dist-packages (1.2.0)\n"
          ]
        }
      ],
      "source": [
        "!pip install joblib"
      ]
    },
    {
      "cell_type": "code",
      "execution_count": 37,
      "metadata": {
        "colab": {
          "base_uri": "https://localhost:8080/",
          "height": 70
        },
        "id": "Rq6kyNDjDGoC",
        "outputId": "7e85deff-da1e-4709-ad2c-5444773e46e0"
      },
      "outputs": [
        {
          "name": "stdout",
          "output_type": "stream",
          "text": [
            "Random Forest Model Saved\n"
          ]
        },
        {
          "data": {
            "application/vnd.google.colaboratory.intrinsic+json": {
              "type": "string"
            },
            "text/plain": [
              "'rfc = joblib.load(\\'module.pkl\\')\\n# Save features from training\\nrnd_columns = list(X_train.columns)\\njoblib.dump(rnd_columns, \\'rnd_columns.pkl\\')\\nprint(\"Random Forest Model Colums Saved\")'"
            ]
          },
          "execution_count": 37,
          "metadata": {},
          "output_type": "execute_result"
        }
      ],
      "source": [
        "#Serialize the model and save\n",
        "from joblib import dump, load\n",
        "dump(rfc, 'module.pkl')\n",
        "print(\"Random Forest Model Saved\")\n",
        "#Load the model\n",
        "\"\"\"rfc = joblib.load('module.pkl')\n",
        "# Save features from training\n",
        "rnd_columns = list(X_train.columns)\n",
        "joblib.dump(rnd_columns, 'rnd_columns.pkl')\n",
        "print(\"Random Forest Model Colums Saved\")\"\"\""
      ]
    },
    {
      "cell_type": "code",
      "execution_count": 1,
      "metadata": {
        "colab": {
          "base_uri": "https://localhost:8080/"
        },
        "id": "0Vwg1Ahicuyv",
        "outputId": "5c89c973-8e5f-4c71-b6f6-ad51f7b63b13"
      },
      "outputs": [
        {
          "name": "stdout",
          "output_type": "stream",
          "text": [
            "Looking in indexes: https://pypi.org/simple, https://us-python.pkg.dev/colab-wheels/public/simple/\n",
            "Collecting pickle5\n",
            "  Downloading pickle5-0.0.11.tar.gz (132 kB)\n",
            "\u001b[2K     \u001b[90m━━━━━━━━━━━━━━━━━━━━━━━━━━━━━━━━━━━━━━━\u001b[0m \u001b[32m132.1/132.1 kB\u001b[0m \u001b[31m2.7 MB/s\u001b[0m eta \u001b[36m0:00:00\u001b[0m\n",
            "\u001b[?25h  Preparing metadata (setup.py) ... \u001b[?25l\u001b[?25hdone\n",
            "Building wheels for collected packages: pickle5\n",
            "  Building wheel for pickle5 (setup.py) ... \u001b[?25l\u001b[?25hdone\n",
            "  Created wheel for pickle5: filename=pickle5-0.0.11-cp310-cp310-linux_x86_64.whl size=256423 sha256=62e197a4d19e4a37a6c449c6854899c26a7612ebdca8907b45939a500dd23695\n",
            "  Stored in directory: /root/.cache/pip/wheels/7d/14/ef/4aab19d27fa8e58772be5c71c16add0426acf9e1f64353235c\n",
            "Successfully built pickle5\n",
            "Installing collected packages: pickle5\n",
            "Successfully installed pickle5-0.0.11\n"
          ]
        }
      ],
      "source": [
        "!pip install pickle5"
      ]
    },
    {
      "cell_type": "code",
      "execution_count": 38,
      "metadata": {
        "id": "pIEgoBgWcks8"
      },
      "outputs": [],
      "source": [
        "import pickle\n",
        "filename = 'model2.sav'\n",
        "pickle.dump(rfc, open(filename, 'wb'))"
      ]
    },
    {
      "cell_type": "code",
      "execution_count": null,
      "metadata": {
        "id": "KO4CH7J1c6jR"
      },
      "outputs": [],
      "source": []
    }
  ],
  "metadata": {
    "colab": {
      "provenance": []
    },
    "kernelspec": {
      "display_name": "Python 3",
      "name": "python3"
    },
    "language_info": {
      "name": "python"
    }
  },
  "nbformat": 4,
  "nbformat_minor": 0
}
